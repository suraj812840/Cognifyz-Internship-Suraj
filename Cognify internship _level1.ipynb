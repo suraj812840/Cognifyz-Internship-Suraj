{
  "nbformat": 4,
  "nbformat_minor": 0,
  "metadata": {
    "colab": {
      "private_outputs": true,
      "provenance": []
    },
    "kernelspec": {
      "name": "python3",
      "display_name": "Python 3"
    },
    "language_info": {
      "name": "python"
    }
  },
  "cells": [
    {
      "cell_type": "markdown",
      "source": [
        "#✅Level 1 – Task 1: Data Exploration and Preprocessing"
      ],
      "metadata": {
        "id": "zFg9mXBZ0Apk"
      }
    },
    {
      "cell_type": "code",
      "source": [
        "import pandas as pd\n",
        "import numpy as np"
      ],
      "metadata": {
        "id": "9999PfQa0Q5f"
      },
      "execution_count": null,
      "outputs": []
    },
    {
      "cell_type": "code",
      "source": [
        "\n",
        "df1=pd.read_csv('/content/sample_data/Dataset .csv')\n",
        "df1.head()"
      ],
      "metadata": {
        "id": "fz4tMxiv0DIJ"
      },
      "execution_count": null,
      "outputs": []
    },
    {
      "cell_type": "code",
      "source": [
        "# Step 2: Shape Check\n",
        "print(\"Rows and Columns:\", df1.shape)"
      ],
      "metadata": {
        "id": "6d94CQAX0EuB"
      },
      "execution_count": null,
      "outputs": []
    },
    {
      "cell_type": "code",
      "source": [
        "# Step 3: Missing Values\n",
        "print(\"\\nMissing Values:\\n\", df1.isnull().sum())"
      ],
      "metadata": {
        "id": "ElvdbDTu0EwV"
      },
      "execution_count": null,
      "outputs": []
    },
    {
      "cell_type": "code",
      "source": [
        "df1.columns"
      ],
      "metadata": {
        "id": "lVNzop_L0E1a"
      },
      "execution_count": null,
      "outputs": []
    },
    {
      "cell_type": "code",
      "source": [
        "df1.info()"
      ],
      "metadata": {
        "id": "QYjy_zeU0E4B"
      },
      "execution_count": null,
      "outputs": []
    },
    {
      "cell_type": "code",
      "source": [
        "df1.describe()"
      ],
      "metadata": {
        "id": "IjoKugYr1U1x"
      },
      "execution_count": null,
      "outputs": []
    },
    {
      "cell_type": "code",
      "source": [
        "# Step 4: Fill missing values (easy method)\n",
        "df1.fillna({\n",
        "    'Cuisines': df1['Cuisines'].mode()[0],\n",
        "    'Rating text': df1['Rating text'].mode()[0]\n",
        "}, inplace=True)\n"
      ],
      "metadata": {
        "id": "f1413oJp1U4r"
      },
      "execution_count": null,
      "outputs": []
    },
    {
      "cell_type": "code",
      "source": [
        "df1.isnull().sum()"
      ],
      "metadata": {
        "id": "5Q19_W-D1e4j"
      },
      "execution_count": null,
      "outputs": []
    },
    {
      "cell_type": "code",
      "source": [
        "# Step 5: Data Types\n",
        "print(\"\\nData Types:\\n\", df1.dtypes)"
      ],
      "metadata": {
        "id": "uebCmfiM1e7C"
      },
      "execution_count": null,
      "outputs": []
    },
    {
      "cell_type": "code",
      "source": [
        "# Step 6: Target Variable Distribution\n",
        "print(\"\\nAggregate Rating Distribution:\\n\", df1['Aggregate rating'].value_counts())"
      ],
      "metadata": {
        "id": "D6mdc-221e9i"
      },
      "execution_count": null,
      "outputs": []
    },
    {
      "cell_type": "markdown",
      "source": [
        "#✅ Level 1 – Task 2: Descriptive Analysis"
      ],
      "metadata": {
        "id": "0Rxz709n2FkX"
      }
    },
    {
      "cell_type": "code",
      "source": [
        "# Mean, Median, Std\n",
        "print(\"\\nMean:\\n\", df1.mean(numeric_only=True))\n",
        "print(\"\\nMedian:\\n\", df1.median(numeric_only=True))\n",
        "print(\"\\nStandard Deviation:\\n\", df1.std(numeric_only=True))"
      ],
      "metadata": {
        "id": "ZKqq4Hb92L-U"
      },
      "execution_count": null,
      "outputs": []
    },
    {
      "cell_type": "code",
      "source": [
        "\n",
        "# Top Cuisines and Cities\n",
        "print(\"\\nTop Cuisines:\\n\", df1['Cuisines'].value_counts().head(5))\n",
        "print(\"\\nTop Cities:\\n\", df1['City'].value_counts().head(5))"
      ],
      "metadata": {
        "id": "wzTxq7DS1fAP"
      },
      "execution_count": null,
      "outputs": []
    },
    {
      "cell_type": "markdown",
      "source": [
        "#✅ Level 1 – Task 3: Geospatial Analysis\n"
      ],
      "metadata": {
        "id": "k20M3DtV25v-"
      }
    },
    {
      "cell_type": "code",
      "source": [
        "import seaborn as sns\n",
        "import matplotlib.pyplot as plt"
      ],
      "metadata": {
        "id": "bm6OcZJd28L1"
      },
      "execution_count": null,
      "outputs": []
    },
    {
      "cell_type": "code",
      "source": [
        "# Latitude vs Longitude scatter\n",
        "plt.figure(figsize=(10,6))\n",
        "sns.scatterplot(data=df1, x='Longitude', y='Latitude', hue='Aggregate rating')\n",
        "plt.title('Restaurant Locations')\n",
        "plt.show()"
      ],
      "metadata": {
        "id": "bGgkd_EI2l-2"
      },
      "execution_count": null,
      "outputs": []
    },
    {
      "cell_type": "code",
      "source": [
        "# Restaurants per City\n",
        "city_counts = df1['City'].value_counts()\n",
        "city_counts.plot(kind='bar', figsize=(20,10), title='Restaurants per City')\n",
        "plt.show()"
      ],
      "metadata": {
        "id": "4iccjB_X3AjO"
      },
      "execution_count": null,
      "outputs": []
    },
    {
      "cell_type": "code",
      "source": [],
      "metadata": {
        "id": "qBW0xBM82mBr"
      },
      "execution_count": null,
      "outputs": []
    },
    {
      "cell_type": "code",
      "source": [],
      "metadata": {
        "id": "9FbEWlgq2mEd"
      },
      "execution_count": null,
      "outputs": []
    },
    {
      "cell_type": "code",
      "source": [],
      "metadata": {
        "id": "2BPzKoBH2mHB"
      },
      "execution_count": null,
      "outputs": []
    },
    {
      "cell_type": "code",
      "source": [],
      "metadata": {
        "id": "QpWxXE932mIz"
      },
      "execution_count": null,
      "outputs": []
    },
    {
      "cell_type": "code",
      "source": [],
      "metadata": {
        "id": "l8TZymuA2mL8"
      },
      "execution_count": null,
      "outputs": []
    },
    {
      "cell_type": "code",
      "source": [],
      "metadata": {
        "id": "XDVhFYSz2mYT"
      },
      "execution_count": null,
      "outputs": []
    },
    {
      "cell_type": "code",
      "source": [],
      "metadata": {
        "id": "vrijnYvt1fCq"
      },
      "execution_count": null,
      "outputs": []
    },
    {
      "cell_type": "code",
      "source": [],
      "metadata": {
        "id": "ex56hYFk1fGH"
      },
      "execution_count": null,
      "outputs": []
    },
    {
      "cell_type": "code",
      "source": [],
      "metadata": {
        "id": "STZCCA5f1U8R"
      },
      "execution_count": null,
      "outputs": []
    },
    {
      "cell_type": "code",
      "source": [],
      "metadata": {
        "id": "olhoiX4N1VEQ"
      },
      "execution_count": null,
      "outputs": []
    },
    {
      "cell_type": "code",
      "source": [],
      "metadata": {
        "id": "44f_Hj3J1VHH"
      },
      "execution_count": null,
      "outputs": []
    },
    {
      "cell_type": "code",
      "source": [],
      "metadata": {
        "id": "nbGuRlSR1VKi"
      },
      "execution_count": null,
      "outputs": []
    },
    {
      "cell_type": "code",
      "source": [],
      "metadata": {
        "id": "KDLUwUW80E6a"
      },
      "execution_count": null,
      "outputs": []
    },
    {
      "cell_type": "code",
      "source": [],
      "metadata": {
        "id": "b5fyuBvT0E8g"
      },
      "execution_count": null,
      "outputs": []
    },
    {
      "cell_type": "code",
      "source": [],
      "metadata": {
        "id": "EgtmXcYe0E_5"
      },
      "execution_count": null,
      "outputs": []
    },
    {
      "cell_type": "code",
      "source": [],
      "metadata": {
        "id": "12mCD5IW0AB0"
      },
      "execution_count": null,
      "outputs": []
    },
    {
      "cell_type": "code",
      "source": [],
      "metadata": {
        "id": "2oLXnE1K0AEb"
      },
      "execution_count": null,
      "outputs": []
    },
    {
      "cell_type": "code",
      "source": [],
      "metadata": {
        "id": "b4aVXMW30AH6"
      },
      "execution_count": null,
      "outputs": []
    }
  ]
}